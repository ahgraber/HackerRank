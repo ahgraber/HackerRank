{
 "cells": [
  {
   "cell_type": "markdown",
   "metadata": {},
   "source": [
    "# 10 Days of Stats #\n",
    "### Code from HackerRank Challenge###"
   ]
  },
  {
   "cell_type": "markdown",
   "metadata": {},
   "source": [
    "#### Day 0: Mean, Median, Mode ####"
   ]
  },
  {
   "cell_type": "code",
   "execution_count": null,
   "metadata": {},
   "outputs": [],
   "source": [
    "# Enter your code here. Read input from STDIN. Print output to STDOUT\n",
    "N = int(input().strip())\n",
    "arr = [int(i) for i in input().strip().split(' ')]\n",
    "\n",
    "def mean(lst):\n",
    "    \"\"\"returns the mean of lst\"\"\"\n",
    "    return sum(lst)/len(lst)\n",
    "\n",
    "\n",
    "def median(lst):\n",
    "    \"\"\"returns the median of lst\"\"\"\n",
    "    lst.sort()\n",
    "    n = len(lst)\n",
    "    \n",
    "    # if even-numbered list, take average of middle two values\n",
    "    if n % 2 == 0: \n",
    "        return int((lst[int(n/2)-1] + lst[int(n/2)]) / 2)\n",
    "        # returning int b/c int inputs are specified in problem\n",
    "    # else if odd-numbered list, take middle value   \n",
    "    else:          \n",
    "        return lst[floor(n/2)]\n",
    "\n",
    "def mode(lst):\n",
    "    \"\"\"returns the mode of lst\"\"\"\n",
    "    counts=[]\n",
    "    for i in lst:\n",
    "        counts.append(arr.count(i))\n",
    "        \n",
    "    # pick largest # of multiple occurences\n",
    "    if max(counts) > 1:\n",
    "        print(lst[counts.index(max(counts))])\n",
    "    # if multiple modes, pick smallest    \n",
    "    else:\n",
    "        print(min(lst)) \n",
    "\n",
    "\n",
    "# output\n",
    "print(round(mean(arr),2))\n",
    "print(round(median(arr),2))\n",
    "print(round(mode(arr),2))"
   ]
  },
  {
   "cell_type": "markdown",
   "metadata": {},
   "source": [
    "#### Day 0: Weighted Mean ####"
   ]
  },
  {
   "cell_type": "code",
   "execution_count": null,
   "metadata": {},
   "outputs": [],
   "source": [
    "# Enter your code here. Read input from STDIN. Print output to STDOUT\n",
    "N = int(input().strip())\n",
    "arr = [int(i) for i in input().strip().split(' ')]\n",
    "weights = [int(j) for j in input().strip().split(' ')]\n",
    "\n",
    "\n",
    "def wmean(lst, wts):\n",
    "    \"\"\"returns the variance of lst\"\"\"\n",
    "    if len(lst) == len(wts):\n",
    "        numerator = 0\n",
    "        \n",
    "        for i in range(len(lst)):\n",
    "            numerator += lst[i]*wts[i]\n",
    "\n",
    "        return numerator/sum(wts)\n",
    "    \n",
    "    else:\n",
    "        print('array, weights not equal lengths')\n",
    "\n",
    "\n",
    "# output\n",
    "print(round(wmean(arr,weights),1))\n"
   ]
  },
  {
   "cell_type": "markdown",
   "metadata": {},
   "source": [
    "#### Day 1: Quartiles ####"
   ]
  },
  {
   "cell_type": "code",
   "execution_count": 33,
   "metadata": {},
   "outputs": [
    {
     "name": "stdout",
     "output_type": "stream",
     "text": [
      "9\n",
      "3 7 8 5 12 14 21 13 18\n",
      "<generator object <genexpr> at 0x110509308>\n"
     ]
    }
   ],
   "source": [
    "# Enter your code here. Read input from STDIN. Print output to STDOUT\n",
    "N = int(input().strip())\n",
    "arr = [int(i) for i in input().strip().split(' ')]\n",
    "\n",
    "from math import floor\n",
    "\n",
    "def median(lst):\n",
    "    \"\"\"returns the median of lst\"\"\"\n",
    "    lst.sort()\n",
    "    n = len(lst)\n",
    "    \n",
    "    # if even-numbered list, take average of middle two values\n",
    "    if n % 2 == 0: \n",
    "        return int((lst[int(n/2)-1] + lst[int(n/2)]) / 2)\n",
    "    # else if odd-numbered list, take middle value   \n",
    "    else:          \n",
    "        return lst[floor(n/2)]\n",
    "    \n",
    "def qtile(lst):\n",
    "    \"\"\"returns the thresholds (Q1,Q2,Q3) separating lst into 4\"\"\"\n",
    "    lst.sort()\n",
    "    n = len(lst)\n",
    "    \n",
    "    q2 = median(lst)\n",
    "    \n",
    "    if n % 2 == 0: \n",
    "        q1 = median(lst[ : int(n/2)])\n",
    "        q3 = median(lst[int(n/2) : ])\n",
    "    else:\n",
    "        q1 = median(lst[ : int(n/2)])\n",
    "        q3 = median(lst[int(n/2)+1 : ])\n",
    "\n",
    "    return q1,q2,q3\n",
    "\n",
    "\n",
    "# output\n",
    "q1,q2,q3 = qtile(arr)\n",
    "print(q1)\n",
    "print(q2)\n",
    "print(q3)"
   ]
  },
  {
   "cell_type": "markdown",
   "metadata": {},
   "source": [
    "#### Day 1: IQR ####"
   ]
  },
  {
   "cell_type": "code",
   "execution_count": null,
   "metadata": {},
   "outputs": [],
   "source": [
    "# Enter your code here. Read input from STDIN. Print output to STDOUT\n",
    "'''\n",
    "Given array X of n integers and array F \n",
    "representing frequencies of X's elements,\n",
    "construct a dataset S and find the interquartile range\n",
    "'''\n",
    "N = int(input().strip())\n",
    "X = [int(i) for i in input().strip().split(' ')]\n",
    "F = [int(i) for i in input().strip().split(' ')] \n",
    "\n",
    "from math import floor\n",
    "\n",
    "def median(lst):\n",
    "    \"\"\"returns the median of lst\"\"\"\n",
    "    lst.sort()\n",
    "    n = len(lst)\n",
    "    \n",
    "    # if even-numbered list, take average of middle two values\n",
    "    if n % 2 == 0: \n",
    "        return int((lst[int(n/2)-1] + lst[int(n/2)]) / 2)\n",
    "    # else if odd-numbered list, take middle value   \n",
    "    else:          \n",
    "        return lst[floor(n/2)]\n",
    "    \n",
    "def qtile(lst):\n",
    "    \"\"\"returns the thresholds (Q1,Q2,Q3) separating lst into 4\"\"\"\n",
    "    lst.sort()\n",
    "    n = len(lst)\n",
    "    \n",
    "    q2 = median(lst)\n",
    "    \n",
    "    if n % 2 == 0: \n",
    "        q1 = median(lst[ : int(n/2)])\n",
    "        q3 = median(lst[int(n/2) : ])\n",
    "    else:\n",
    "        q1 = median(lst[ : int(n/2)])\n",
    "        q3 = median(lst[int(n/2)+1 : ])\n",
    "\n",
    "    return q1,q2,q3\n",
    "\n",
    "def IQR(lst):\n",
    "    q1,q2,q3 = qtile(lst)\n",
    "    return q3-q1\n",
    "\n",
    "\n",
    "# output\n",
    "S = []\n",
    "for i in range(len(X)):\n",
    "    for j in range(F[i]):\n",
    "        S.append(X[i])\n",
    "    \n",
    "# Round your answer to a scale of 1 decimal plac\n",
    "print(\"{0:0.1f}\".format(IQR(S))) "
   ]
  },
  {
   "cell_type": "markdown",
   "metadata": {},
   "source": [
    "#### Day 1: Standard Deviation ####"
   ]
  },
  {
   "cell_type": "code",
   "execution_count": 34,
   "metadata": {},
   "outputs": [
    {
     "name": "stdout",
     "output_type": "stream",
     "text": [
      "0\n",
      "0\n",
      "0.0\n"
     ]
    }
   ],
   "source": [
    "# Enter your code here. Read input from STDIN. Print output to STDOUT\n",
    "N = int(input().strip())\n",
    "arr = [int(i) for i in input().strip().split(' ')]\n",
    "\n",
    "def mean(lst):\n",
    "    \"\"\"returns the mean of lst\"\"\"\n",
    "    return sum(lst)/len(lst)\n",
    "\n",
    "def vrnc(lst):\n",
    "    \"\"\"returns the variance of lst\"\"\"\n",
    "    u = mean(lst)\n",
    "    return sum([(x-u)**2 for x in lst]) / len(lst)\n",
    "\n",
    "def sd(lst):\n",
    "    \"\"\"returns the standard deviation of lst\"\"\"\n",
    "    var = vrnc(lst)\n",
    "    return var**0.5\n",
    "\n",
    "\n",
    "# output\n",
    "print(round(sd(arr),1))"
   ]
  },
  {
   "cell_type": "markdown",
   "metadata": {},
   "source": [
    "#### Day 2: Basic Probability ####"
   ]
  },
  {
   "cell_type": "code",
   "execution_count": 55,
   "metadata": {},
   "outputs": [
    {
     "name": "stdout",
     "output_type": "stream",
     "text": [
      "2\n",
      "9\n",
      "0.8333333333333334\n"
     ]
    }
   ],
   "source": [
    "'''\n",
    "In a single toss of n fair (evenly-weighted) six-sided dice, \n",
    "find the probability that their sum will be AT MOST k.\n",
    "'''\n",
    "n = int(input().strip())\n",
    "k = int(input().strip())\n",
    "\n",
    "if k > n*6:\n",
    "    print('Error: k greater than possible sum of n rolls')\n",
    "\n",
    "def throw(num_dice):\n",
    "    \"\"\"Get sample space of num_dice rolls\"\"\"\n",
    "    import itertools\n",
    "    die = [1,2,3,4,5,6]\n",
    "    return itertools.product(die, repeat=n)\n",
    "\n",
    "# get sample space\n",
    "rolls = throw(n)\n",
    "\n",
    "# count number of rolls in sample space that meet criteria\n",
    "size = 0\n",
    "count = 0\n",
    "for r in rolls:\n",
    "    size += 1\n",
    "    if  sum(r) <= k:\n",
    "        count += 1\n",
    "        \n",
    "print(count/size)"
   ]
  },
  {
   "cell_type": "markdown",
   "metadata": {},
   "source": [
    "#### Day 2: More Dice ####"
   ]
  },
  {
   "cell_type": "code",
   "execution_count": 56,
   "metadata": {},
   "outputs": [
    {
     "name": "stdout",
     "output_type": "stream",
     "text": [
      "6\n",
      "0.1111111111111111\n"
     ]
    }
   ],
   "source": [
    "'''\n",
    "In a single toss of n fair (evenly-weighted) six-sided dice, \n",
    "find the probability the values rolled by each die\n",
    "will be different AND the two dice have a sum of k.\n",
    "'''\n",
    "# n = int(input().strip())\n",
    "k = int(input().strip())\n",
    "\n",
    "if k > n*6:\n",
    "    print('Error: k greater than possible sum of n rolls')\n",
    "\n",
    "def throw(num_dice):\n",
    "    \"\"\"Get sample space of num_dice rolls\"\"\"\n",
    "    import itertools\n",
    "    die = [1,2,3,4,5,6]\n",
    "    return itertools.product(die, repeat=n)\n",
    "\n",
    "# get sample space\n",
    "rolls = throw(2)\n",
    "\n",
    "# count number of rolls in sample space that meet criteria\n",
    "size = 0\n",
    "count = 0\n",
    "for r in rolls:\n",
    "    size += 1\n",
    "    if r[0] != r[1]:\n",
    "        if  sum(r) == k:\n",
    "            count += 1\n",
    "        \n",
    "print(count/size)"
   ]
  },
  {
   "cell_type": "markdown",
   "metadata": {},
   "source": [
    "#### Day 2: Compound Event ####"
   ]
  },
  {
   "cell_type": "code",
   "execution_count": 85,
   "metadata": {},
   "outputs": [
    {
     "name": "stdout",
     "output_type": "stream",
     "text": [
      "4,3\n",
      "5,4\n",
      "4,4\n",
      "0.40476190476190477\n"
     ]
    }
   ],
   "source": [
    "'''\n",
    "There are 3 urns, each having some combination of red/black balls.\n",
    "One ball is drawn from each of the 3 urns.\n",
    "What is the probability that of the 3 balls drawn, \n",
    "2 are red and 1 are black?\n",
    "'''\n",
    "# fill urns from user input (red,black)\n",
    "x = [int(i) for i in input().strip().split(',')]\n",
    "y = [int(i) for i in input().strip().split(',')]\n",
    "z = [int(i) for i in input().strip().split(',')]\n",
    "\n",
    "# calculate the probability of red from each urn\n",
    "xr = a[0] / sum(x)\n",
    "yr = b[0] / sum(y)\n",
    "zr = c[0] / sum(z)\n",
    "\n",
    "# calculate the probability of each way to get to 2r 1b\n",
    "print((xr*yr * (1-zr)) + \n",
    "      (xr*zr * (1-yr)) + \n",
    "      (yr*zr * (1-xr)))\n"
   ]
  },
  {
   "cell_type": "markdown",
   "metadata": {},
   "source": [
    "#### Day 3: Conditional Probability ####"
   ]
  },
  {
   "cell_type": "code",
   "execution_count": 5,
   "metadata": {},
   "outputs": [
    {
     "data": {
      "text/plain": [
       "0.5"
      ]
     },
     "execution_count": 5,
     "metadata": {},
     "output_type": "execute_result"
    }
   ],
   "source": [
    "'''\n",
    "Suppose a family has  children, one of which is a boy. \n",
    "What is the probability that both children are boys?\n",
    "'''\n",
    "\n",
    "# Bayes Thm\n",
    "# Prob(A|B) = (P(B|A) * P(A)) / P(B)\n",
    "# Prob(both | one) = p(both AND one) / p(one)\n",
    "#   p(both) = 1/4\n",
    "#   p(one)  = 1\n",
    "#   p(both | 1) 1/3\n",
    "\n",
    "# Prob(both | one) = (1/3) / 1 = 1/3"
   ]
  },
  {
   "cell_type": "markdown",
   "metadata": {},
   "source": [
    "#### Day 3: Cards of the Same Suit ####"
   ]
  },
  {
   "cell_type": "code",
   "execution_count": 14,
   "metadata": {},
   "outputs": [
    {
     "data": {
      "text/plain": [
       "0.058823529411764705"
      ]
     },
     "execution_count": 14,
     "metadata": {},
     "output_type": "execute_result"
    }
   ],
   "source": [
    "'''\n",
    "You draw  cards from a standard -card deck without replacing them. \n",
    "What is the probability that both cards are of the same suit?\n",
    "'''\n",
    "\n",
    "draw1 = 52\n",
    "draw2 = 51\n",
    "options1 = 52 # (any card is possible for draw 1)\n",
    "options2 = 12 # (we need one of the remaining 12 cards in the same suit)\n",
    "\n",
    "options1 * options2 / draw1 * draw2\n",
    "# 52 * 12 / 52 * 51\n",
    "# 12 / 15"
   ]
  },
  {
   "cell_type": "markdown",
   "metadata": {},
   "source": [
    "#### Day 3: Drawing Marbles ####"
   ]
  },
  {
   "cell_type": "code",
   "execution_count": null,
   "metadata": {},
   "outputs": [],
   "source": [
    "'''\n",
    "A bag contains 3 red marbles and 4 blue marbles. \n",
    "Then, 2 marbles are drawn from the bag, at random, without replacement. \n",
    "If the first marble drawn is red, \n",
    "what is the probability that the second marble is blue?\n",
    "'''\n",
    "\n",
    "# Bayes Thm\n",
    "# Prob(B|R) = (P(R|B) * P(B)) / P(R)\n",
    "\n",
    "# p(red) = 3/7\n",
    "# p(blue) = 4/7\n",
    "# p(red | blue) = 3/6 (since a blue was removed)\n",
    "# p(blue | red) = 3/6 * 4/7 / 3/7 = 2/7 / 3/7 = 2/3"
   ]
  },
  {
   "cell_type": "markdown",
   "metadata": {},
   "source": [
    "#### Day 4: Binomial Distribution I ####"
   ]
  },
  {
   "cell_type": "code",
   "execution_count": 33,
   "metadata": {},
   "outputs": [
    {
     "name": "stdout",
     "output_type": "stream",
     "text": [
      "1.09 1\n",
      "0.696\n"
     ]
    }
   ],
   "source": [
    "'''\n",
    "Given a ratio as two numbers (b,g), \n",
    "compute the proportion that (with n=6) will have b >= 3\n",
    "'''\n",
    "b, g = map(float, input().strip().split(' '))\n",
    "\n",
    "# compute probability given odds\n",
    "prob_boy = b / (1+b)\n",
    "\n",
    "def nCr(n, k):\n",
    "    \"\"\"\n",
    "    returns result of n Choose k combinatorics problem\n",
    "    \"\"\"\n",
    "    from math import factorial\n",
    "    return (factorial(n)/(factorial(k)*factorial(n-k)))\n",
    "    \n",
    "def binomial_pmf(x, n, p):\n",
    "    \"\"\"\n",
    "    returns probability of x successes out of n trials\n",
    "    where p is probability of success in 1 trial\n",
    "    \"\"\"\n",
    "    import math\n",
    "    return (nCr(n,x) * (p**x) * ((1-p)**(n-x)))\n",
    "        \n",
    "def binomial_cdf(low, high, n, p):\n",
    "    \"\"\"\n",
    "    returns cumulative probability of x successes in \n",
    "    low:high of n trials given p probability of success in 1 trial\n",
    "    \"\"\"\n",
    "    if low < 0:\n",
    "        print('ERROR: low < 0')\n",
    "    if low > high:\n",
    "        print('ERROR: low > high')\n",
    "    if high > n:\n",
    "        print('ERROR: high > n (number trials)')\n",
    "        \n",
    "    cdf = 0\n",
    "    for i in range(low, (high+1)):\n",
    "        cdf += binomial_pmf(i, n, p)\n",
    "    \n",
    "    return cdf\n",
    "\n",
    "result = binomial_cdf(low=3, high=6, n=6, p=prob_boy)\n",
    "print(round(result,3))"
   ]
  },
  {
   "cell_type": "markdown",
   "metadata": {},
   "source": [
    "#### Day 4: Binomial Distribution II ####"
   ]
  },
  {
   "cell_type": "code",
   "execution_count": 35,
   "metadata": {},
   "outputs": [
    {
     "name": "stdout",
     "output_type": "stream",
     "text": [
      "12 10\n",
      "0.891\n",
      "0.342\n"
     ]
    }
   ],
   "source": [
    "'''\n",
    "A manufacturer of metal pistons finds that, on average, \n",
    "12% of the pistons they manufacture are rejected \n",
    "because they are incorrectly sized. \n",
    "What is the probability that a batch of 10 pistons will contain:\n",
    "1. no more than 2 rejects\n",
    "2. at least 2 rejects\n",
    "'''\n",
    "\n",
    "p, n = map(float, input().strip().split(' '))\n",
    "p=p/100\n",
    "\n",
    "def nCr(n, k):\n",
    "    \"\"\"\n",
    "    returns result of n Choose k combinatorics problem\n",
    "    \"\"\"\n",
    "    from math import factorial\n",
    "    return (factorial(n)/(factorial(k)*factorial(n-k)))\n",
    "    \n",
    "def binomial_pmf(x, n, p):\n",
    "    \"\"\"\n",
    "    returns probability of x successes out of n trials\n",
    "    where p is probability of success in 1 trial\n",
    "    \"\"\"\n",
    "    import math\n",
    "    return (nCr(n,x) * (p**x) * ((1-p)**(n-x)))\n",
    "        \n",
    "def binomial_cdf(low, high, n, p):\n",
    "    \"\"\"\n",
    "    returns cumulative probability of x successes in \n",
    "    low:high of n trials given p probability of success in 1 trial\n",
    "    \"\"\"\n",
    "    if low < 0:\n",
    "        print('ERROR: low < 0')\n",
    "    if low > high:\n",
    "        print('ERROR: low > high')\n",
    "    if high > n:\n",
    "        print('ERROR: high > n (number trials)')\n",
    "        \n",
    "    cdf = 0\n",
    "    for i in range(low, (high+1)):\n",
    "        cdf += binomial_pmf(i, n, p)\n",
    "    \n",
    "    return cdf\n",
    "\n",
    "result1 = binomial_cdf(low=0, high=2, n=10, p=0.12)\n",
    "result2 = binomial_cdf(low=2, high=10, n=10, p=0.12)\n",
    "print(round(result1,3))\n",
    "print(round(result2,3))"
   ]
  },
  {
   "cell_type": "markdown",
   "metadata": {},
   "source": [
    "#### Day 4: Geometric Distribution I ####"
   ]
  },
  {
   "cell_type": "code",
   "execution_count": 38,
   "metadata": {},
   "outputs": [
    {
     "name": "stdout",
     "output_type": "stream",
     "text": [
      "1 3\n",
      "5\n",
      "0.066\n"
     ]
    }
   ],
   "source": [
    "'''\n",
    "The probability that a machine produces a defective product is 1/3. \n",
    "What is the probability that the 1st defect is found during the \n",
    "5th inspection?\n",
    "'''\n",
    "\n",
    "num, denom = map(float, input().strip().split(' '))\n",
    "n = int(input().strip())\n",
    "p = num/denom\n",
    "\n",
    "def nCr(n, k):\n",
    "    \"\"\"\n",
    "    returns result of n Choose k combinatorics problem\n",
    "    \"\"\"\n",
    "    from math import factorial\n",
    "    return (factorial(n)/(factorial(k)*factorial(n-k)))\n",
    "    \n",
    "def neg_binomial_pmf(x, n, p):\n",
    "    \"\"\"\n",
    "    returns probability of x successes out of n trials\n",
    "    where p is probability of success in 1 trial\n",
    "    \"\"\"\n",
    "    import math\n",
    "    return (nCr(n-1,x-1) * (p**x) * ((1-p)**(n-x)))\n",
    "\n",
    "def geometric_pmf(n, p):\n",
    "    return (((1-p)**(n-1)) * p)\n",
    "\n",
    "result = geometric_pmf(n, p)\n",
    "print(round(result,3))"
   ]
  },
  {
   "cell_type": "markdown",
   "metadata": {},
   "source": [
    "#### Day 4: Geometric Distribution II ####"
   ]
  },
  {
   "cell_type": "code",
   "execution_count": 40,
   "metadata": {},
   "outputs": [
    {
     "name": "stdout",
     "output_type": "stream",
     "text": [
      "1 3\n",
      "5\n",
      "0.868\n"
     ]
    }
   ],
   "source": [
    "'''\n",
    "The probability that a machine produces a defective product is 1/3. \n",
    "What is the probability that at least one defect is found within \n",
    "the first 5 inspections\n",
    "'''\n",
    "\n",
    "num, denom = map(float, input().strip().split(' '))\n",
    "n = int(input().strip())\n",
    "p = num/denom\n",
    "\n",
    "def nCr(n, k):\n",
    "    \"\"\"\n",
    "    returns result of n Choose k combinatorics problem\n",
    "    \"\"\"\n",
    "    from math import factorial\n",
    "    return (factorial(n)/(factorial(k)*factorial(n-k)))\n",
    "    \n",
    "def neg_binomial_pmf(x, n, p):\n",
    "    \"\"\"\n",
    "    returns probability of x successes out of n trials\n",
    "    where p is probability of success in 1 trial\n",
    "    \"\"\"\n",
    "    import math\n",
    "    return (nCr(n-1,x-1) * (p**x) * ((1-p)**(n-x)))\n",
    "\n",
    "def geometric_pmf(n, p):\n",
    "    return (((1-p)**(n-1)) * p)\n",
    "\n",
    "result = sum([geometric_pmf(x, 1/3) for x in range(1, (n+1))])\n",
    "print(round(result,3))"
   ]
  },
  {
   "cell_type": "markdown",
   "metadata": {},
   "source": [
    "#### Day 5: Poisson Distribution I ####"
   ]
  },
  {
   "cell_type": "code",
   "execution_count": 2,
   "metadata": {},
   "outputs": [
    {
     "data": {
      "text/plain": [
       "0.06680094289054264"
      ]
     },
     "execution_count": 2,
     "metadata": {},
     "output_type": "execute_result"
    }
   ],
   "source": [
    "'''\n",
    "A random variable, X, follows Poisson distribution with mean of 2.5. \n",
    "Find the probability with which the random variable X is equal to 5.\n",
    "'''\n",
    "\n",
    "def poisson(k, lambd):\n",
    "    from math import exp\n",
    "    from math import factorial\n",
    "    \n",
    "    return (lambd**k * exp(-lambd)) / factorial(k)\n",
    "\n",
    "print(round(poisson(k=5, lambd=2.5),3))"
   ]
  },
  {
   "cell_type": "markdown",
   "metadata": {},
   "source": [
    "#### Day 5: Poisson Distribution II ####"
   ]
  },
  {
   "cell_type": "code",
   "execution_count": 5,
   "metadata": {},
   "outputs": [
    {
     "name": "stdout",
     "output_type": "stream",
     "text": [
      ".88 1.55\n",
      "226.176\n",
      "286.1\n"
     ]
    }
   ],
   "source": [
    "'''\n",
    "Buy machine A or B\n",
    "Repairs X for machine A are poisson distributed.  Cost(A) = 160 + 40X**2\n",
    "Repairs Y for machine B are poisson distributed.  Cost(B) = 128 + 40Y**2\n",
    "Read means from stdin\n",
    "'''\n",
    "\n",
    "xin, yin = map(float, input().strip().split(' '))\n",
    "\n",
    "\n",
    "\n",
    "# We don't know k, but we do know that the expectation of the random variable squared is lambda + lambda**2\n",
    "# Thus, cost\n",
    "CostX = 160 + 40*(xin + xin**2)\n",
    "CostY = 128 + 40*(yin + yin**2)\n",
    "\n",
    "print(round(CostX, 3))\n",
    "print(round(CostY, 3))"
   ]
  },
  {
   "cell_type": "markdown",
   "metadata": {},
   "source": [
    "#### Day 5: Normal Distribution I ####"
   ]
  },
  {
   "cell_type": "code",
   "execution_count": 9,
   "metadata": {},
   "outputs": [
    {
     "name": "stdout",
     "output_type": "stream",
     "text": [
      "20 2\n",
      "19.5\n",
      "20 22\n",
      "0.401\n",
      "0.341\n"
     ]
    }
   ],
   "source": [
    "'''\n",
    "Assembly time is random variable X, normally distributed with mean 20hr and sd 2 hr\n",
    "What is probability car can be assembled in <19.5 hr?  Between 20-22 hr?\n",
    "'''\n",
    "\n",
    "u, sd = map(float, input().strip().split(' '))\n",
    "x = float(input().strip())\n",
    "y, z = map(float, input().strip().split(' '))\n",
    "\n",
    "def normcdf(u, sd, x):\n",
    "    \"\"\"\n",
    "    Cumlative Distribution Function of X evaluated at x \n",
    "    is the probability that X will take a value <= x\n",
    "    \"\"\"\n",
    "    from math import erf\n",
    "    \n",
    "    return (1 + erf((x - u) / (sd*(2**0.5)))) / 2\n",
    "\n",
    "print('{:.3f}'.format(normcdf(u, sd, x)))\n",
    "print('{:.3f}'.format(normcdf(u, sd, z)-normcdf(u, sd, y)))"
   ]
  },
  {
   "cell_type": "markdown",
   "metadata": {},
   "source": [
    "#### Day 5: Normal Distribution II ####"
   ]
  },
  {
   "cell_type": "code",
   "execution_count": null,
   "metadata": {},
   "outputs": [],
   "source": [
    "'''\n",
    "Exam mean and sd are first line\n",
    "2nd line is test 1  (% scoring >)\n",
    "3rd line is test 2, 3 (% scoring >=, % scoring <)\n",
    "'''\n",
    "\n",
    "u, sd = map(float, input().strip().split(' '))\n",
    "x = float(input().strip())\n",
    "y = float(input().strip())\n",
    "\n",
    "def normcdf(u, sd, x):\n",
    "    \"\"\"\n",
    "    Cumlative Distribution Function of X evaluated at x \n",
    "    is the probability that X will take a value <= x\n",
    "    \"\"\"\n",
    "    from math import erf\n",
    "    \n",
    "    return (1 + erf((x - u) / (sd*(2**0.5)))) / 2\n",
    "\n",
    "print('{:.2f}'.format((1-normcdf(u, sd, x))*100))\n",
    "print('{:.2f}'.format((1-normcdf(u, sd, y))*100))\n",
    "print('{:.2f}'.format(normcdf(u, sd, y)*100))"
   ]
  },
  {
   "cell_type": "markdown",
   "metadata": {},
   "source": [
    "#### Day 6: Central Limit Thm I, II ####"
   ]
  },
  {
   "cell_type": "code",
   "execution_count": null,
   "metadata": {},
   "outputs": [],
   "source": [
    "x = float(input().strip())\n",
    "n = float(input().strip())\n",
    "u = float(input().strip())\n",
    "sd = float(input().strip())\n",
    "\n",
    "\n",
    "def normcdf(u, sd, x):\n",
    "    \"\"\"\n",
    "    Cumlative Distribution Function of X evaluated at x \n",
    "    is the probability that X will take a value <= x\n",
    "    \"\"\"\n",
    "    from math import erf\n",
    "    \n",
    "    return (1 + erf((x - u) / (sd*(2**0.5)))) / 2\n",
    "\n",
    "# u'=u\n",
    "# sd' = sd/n**0.5\n",
    "print('{:.4f}'.format(normcdf(u*n, (sd*(n**0.5)), x)))"
   ]
  },
  {
   "cell_type": "markdown",
   "metadata": {},
   "source": [
    "#### Day 6: Central Limit Thm III ####"
   ]
  },
  {
   "cell_type": "code",
   "execution_count": null,
   "metadata": {},
   "outputs": [],
   "source": [
    "n = float(input().strip())\n",
    "u = float(input().strip())\n",
    "sd = float(input().strip())\n",
    "ci = float(input().strip())\n",
    "z = float(input().strip())\n",
    "\n",
    "def confint(u, sd, n, z):\n",
    "    margin = z * sd / n**0.5\n",
    "    lower = u - margin\n",
    "    upper = u + margin\n",
    "    return(lower, upper)\n",
    "\n",
    "# confidence intervals\n",
    "lower, upper = confint(u, sd, n, z)\n",
    "print('{:.2f}'.format(lower))\n",
    "print('{:.2f}'.format(upper))"
   ]
  },
  {
   "cell_type": "markdown",
   "metadata": {},
   "source": [
    "#### Day 7: Pearson Correlation Coefficient I"
   ]
  },
  {
   "cell_type": "code",
   "execution_count": 13,
   "metadata": {},
   "outputs": [
    {
     "name": "stdout",
     "output_type": "stream",
     "text": [
      "10\n",
      "10 9.8 8 7.8 7.7 7 6 5 4 2 \n",
      "200 44 32 24 22 17 15 12 8 4\n",
      "1\n"
     ]
    }
   ],
   "source": [
    "n = int(input())\n",
    "x = list(map(float,input().strip().split()))\n",
    "y = list(map(float,input().strip().split()))\n",
    "\n",
    "def corr(n, x, y):\n",
    "    u_x = sum(x) / n\n",
    "    u_y = sum(y) / n\n",
    "\n",
    "    sd_x = (sum([(i - u_x)**2 for i in x]) / n)**0.5\n",
    "    sd_y = (sum([(j - u_y)**2 for j in y]) / n)**0.5\n",
    "\n",
    "    cov = sum([(i - u_x) * (j - u_y) for i,j in zip(x,y)]) / n\n",
    "               \n",
    "    return (cov / (sd_x * sd_y))\n",
    "\n",
    "print(round(corr(n, x, y),3))"
   ]
  },
  {
   "cell_type": "markdown",
   "metadata": {},
   "source": [
    "#### Day 7: Spearman's Rank Correlation Coefficient"
   ]
  },
  {
   "cell_type": "code",
   "execution_count": 20,
   "metadata": {},
   "outputs": [
    {
     "name": "stdout",
     "output_type": "stream",
     "text": [
      "10\n",
      "10 9.8 8 7.8 7.7 1.7 6 5 1.4 2 \n",
      "200 44 32 24 22 17 15 12 8 4\n",
      "0.903\n"
     ]
    }
   ],
   "source": [
    "n = int(input())\n",
    "x = list(map(float,input().strip().split()))\n",
    "y = list(map(float,input().strip().split()))\n",
    "\n",
    "def spearmans(n, x, y):\n",
    "    xx = list(x)\n",
    "    xx.sort()\n",
    "    yy = list(y)\n",
    "    yy.sort()\n",
    "    \n",
    "    diff = ([(xx.index(x) - yy.index(y))**2 for x,y in zip(x,y)])\n",
    "    \n",
    "    return (1 - 6*sum(diff)/(n*(n**2 - 1)))\n",
    "\n",
    "print(round(spearmans(n,x,y), 3))\n"
   ]
  },
  {
   "cell_type": "markdown",
   "metadata": {},
   "source": [
    "#### Day 8: Least Square Regression LIne"
   ]
  },
  {
   "cell_type": "code",
   "execution_count": 23,
   "metadata": {},
   "outputs": [
    {
     "ename": "SyntaxError",
     "evalue": "invalid syntax (<ipython-input-23-35d0fd8c2cda>, line 16)",
     "output_type": "error",
     "traceback": [
      "\u001b[0;36m  File \u001b[0;32m\"<ipython-input-23-35d0fd8c2cda>\"\u001b[0;36m, line \u001b[0;32m16\u001b[0m\n\u001b[0;31m    def regression(x, y,)\u001b[0m\n\u001b[0m                         ^\u001b[0m\n\u001b[0;31mSyntaxError\u001b[0m\u001b[0;31m:\u001b[0m invalid syntax\n"
     ]
    }
   ],
   "source": [
    "n = 5\n",
    "xy = [list(map(int, input().split())) for i in range(n)]\n",
    "x, y = [i[0] for i in xy], [i[1] for i in xy]\n",
    "\n",
    "def corr(x, y):\n",
    "    u_x = sum(x) / len(x)\n",
    "    u_y = sum(y) / len(y)\n",
    "    \n",
    "    sd_x = (sum([(i - u_x)**2 for i in x]) / len(x))**0.5\n",
    "    sd_y = (sum([(j - u_y)**2 for j in y]) / len(y))**0.5\n",
    "\n",
    "    cov = sum([(i - u_x) * (j - u_y) for i,j in zip(x,y)]) / n\n",
    "               \n",
    "    return (cov / (sd_x * sd_y))\n",
    "\n",
    "def regression(x, y, xi):\n",
    "    u_x = sum(x) / len(x)\n",
    "    u_y = sum(y) / len(y)\n",
    "    \n",
    "    sd_x = (sum([(i - u_x)**2 for i in x]) / len(x))**0.5\n",
    "    sd_y = (sum([(j - u_y)**2 for j in y]) / len(y))**0.5\n",
    "    \n",
    "    m = corr(x, y)*(sd_y/sd_x)\n",
    "    b = u_y - m * u_x\n",
    "    \n",
    "    return m*xi + b\n",
    "\n",
    "print(round(regression(x,y,80),3))"
   ]
  },
  {
   "cell_type": "markdown",
   "metadata": {},
   "source": [
    "#### Day 9: Multiple Linear Regression"
   ]
  },
  {
   "cell_type": "code",
   "execution_count": null,
   "metadata": {},
   "outputs": [],
   "source": [
    "import numpy as np\n",
    "\n",
    "#import data\n",
    "m,n = [int(i) for i in input().strip().split(' ')]\n",
    "\n",
    "X,Y = [],[]\n",
    "for _ in range(n):\n",
    "    vals = list(map(float, input().split()))\n",
    "    X.append([1.0] + vals[0:-1])\n",
    "    Y.append(vals[-1])\n",
    "\n",
    "X = np.matrix(X)\n",
    "Y = np.matrix(Y).reshape((n, 1))\n",
    "beta = np.linalg.solve(X.T.dot(X), X.T.dot(Y))\n",
    "\n",
    "q = int(input().strip())\n",
    "for _ in range(q):\n",
    "    x = np.matrix([1.0] + list(map(float, input().split())))\n",
    "    print(\"{:.2f}\".format((x * beta)[0, 0]))\n"
   ]
  }
 ],
 "metadata": {
  "kernelspec": {
   "display_name": "Python 3",
   "language": "python",
   "name": "python3"
  },
  "language_info": {
   "codemirror_mode": {
    "name": "ipython",
    "version": 3
   },
   "file_extension": ".py",
   "mimetype": "text/x-python",
   "name": "python",
   "nbconvert_exporter": "python",
   "pygments_lexer": "ipython3",
   "version": "3.6.8"
  }
 },
 "nbformat": 4,
 "nbformat_minor": 2
}
